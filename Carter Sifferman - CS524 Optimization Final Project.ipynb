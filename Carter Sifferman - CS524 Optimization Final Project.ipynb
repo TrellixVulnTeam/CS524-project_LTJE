{
 "cells": [
  {
   "attachments": {},
   "cell_type": "markdown",
   "metadata": {},
   "source": [
    "# Carter Sifferman - CS524 Final Project: Geometric Calibration of a Sensor Attached to a Robot Arm\n",
    "\n",
    "## Instructions for running the notebook yourself\n",
    "Activate the virtual environment: `source environments/gmsjupyter/bin/activate`\n",
    "\n",
    "Start the jupyter notebook: `jupyter notebook`\n",
    "\n",
    "Developed with GAMS 36.2, python 3.8.10, jupyter 4.6.3\n",
    "\n",
    "# Problem Introduction\n",
    "\n",
    "This project is related to a research project that I've been doing with Professors Mike Gleicher and Mohit Gupta.\n",
    "\n",
    "Say you have a robot arm like the one shown below\n",
    "\n",
    "<img src=\"ur5.jpeg\" width=300 height=300 />\n",
    "\n",
    "Question is: how should we solve this to deal with uncertainty / noise\n",
    "\n",
    "Since we only need to do this once per sensor and it takes a while to move the robot anyway, speed is not crucial. Accuracy, precision, and robustness to noise are much more important. \n",
    "\n",
    "# Approach\n",
    "\n",
    "# Formulation\n",
    "\n",
    "$(\\textbf{a} \\cdot \\textbf{A}_i\\textbf{p}) + \\textbf{a} \\cdot (d_i*\\textbf{A}_i\\textbf{u}) = -c-\\textbf{a}\\textbf{t}_i$\n",
    "\n",
    "# Models"
   ]
  },
  {
   "cell_type": "markdown",
   "metadata": {},
   "source": [
    "## Creating Simulated Data\n",
    "\n",
    "Before building a model, it will be helpful to generate some simulated data. While we could jump straight into using real-world data from a real robot arm with a sensor attached, using simulated data will let us test our model under \"ideal\" conditions with no noise. After we confirm that our model works under ideal conditions, we can test it out on real data (see section [Evaluation](#evaluation) below).\n",
    "\n",
    "In the cell below, we define some helper functions that will help us create simulated data."
   ]
  },
  {
   "cell_type": "code",
   "execution_count": 4,
   "metadata": {},
   "outputs": [],
   "source": [
    "import numpy as np\n",
    "import csv"
   ]
  },
  {
   "cell_type": "code",
   "execution_count": 87,
   "metadata": {},
   "outputs": [],
   "source": [
    "def gen_observation(p, u, a, d, epsilon=1e-6):\n",
    "    \"\"\"Generate an observation from a point looking at a plane.\n",
    "\n",
    "    Generates an observation (distance and observation point) for a sensor at\n",
    "    location p looking in the direction given by the vector u looking at the\n",
    "    plane defined by a[0]x + a[1]y + a[2]z + d = 0.\n",
    "\n",
    "    https://rosettacode.org/wiki/Find_the_intersection_of_a_line_with_a_plane#Python\n",
    "\n",
    "    Args:\n",
    "        p (3-tuple of floats): the position of the sensor (x, y, z).\n",
    "        u (3-tuple of floats): the orientation of the sensor (x, y, z).\n",
    "          Does not have to be a unit vector.\n",
    "        a (3-tuple of floats): the equation for the line where a[0]x + a[1]y + a[2]z + d = 0.\n",
    "        d (float) the d portion of the line equation.\n",
    "\n",
    "    Returns:\n",
    "        The distance and intersection point as a tuple, for example, with distance\n",
    "        5.2 and intersection point (8.1, 0.3, 4):\n",
    "\n",
    "        (5.2, (8.1, 0.3, 4)) or float('inf') if the sensor does not see the plane.\n",
    "\n",
    "    Raises:\n",
    "        ValueError: The line is undefined.\n",
    "    \"\"\"\n",
    "    a = np.array(a)\n",
    "    p = np.array(p)\n",
    "    u = np.array(u)\n",
    "\n",
    "    if(a[0] != 0):\n",
    "        plane_point = np.array([-d/a[0], 0, 0])\n",
    "    elif(a[1] != 0):\n",
    "        plane_point = np.array([0, -d/a[1], 0])\n",
    "    elif(a[2] != 0):\n",
    "        plane_point = np.array([0, 0, -d/a[2]])\n",
    "    else:\n",
    "        raise ValueError(\"The plane with normal a=[0,0,0] is undefined\")\n",
    "\n",
    "    ndotu = a.dot(u)\n",
    "    if abs(ndotu) < epsilon:\n",
    "        return float('inf')\n",
    "\n",
    "    w = p - plane_point\n",
    "    si = -a.dot(w) / ndotu\n",
    "    Psi = w + si * u + plane_point\n",
    "    \n",
    "    dist = np.linalg.norm(Psi - p)\n",
    "\n",
    "    if(np.allclose((dist * u) + p, Psi)):\n",
    "        return (dist, Psi)\n",
    "    else:\n",
    "        return float('inf')\n",
    "\n",
    "def gen_sim_trial(transforms, p, u, a, d):\n",
    "    \"\"\"Generate multiple observations of the same sensor pose looking at the same plane\n",
    "    \n",
    "    Args:\n",
    "        transforms (list of 4x4 np.arrays): list of transforms to representing motions of\n",
    "          the section of the robot which the sensor is attached to. Represented in homogenous\n",
    "          coordinates. Should be rigid.\n",
    "        p (3-tuple of floats): the position of the sensor (x, y, z).\n",
    "        u (3-tuple of floats): the orientation of the sensor (x, y, z).\n",
    "        a (3-tuple of floats): the equation for the line where a[0]x + a[1]y + a[2]z + d = 0.\n",
    "        d (float) the d portion of the line equation.\n",
    "        \n",
    "    Returns:\n",
    "        (list) simulated distance measurements\n",
    "    \"\"\"\n",
    "    \n",
    "    distances = []\n",
    "    for tf in transforms:\n",
    "        # apply transform to p and u\n",
    "        tf_p = (tf @ np.array(list(p) + [1]))[:3]\n",
    "        tf_u = (tf @ np.array(list(u) + [0]))[:3]\n",
    "        \n",
    "        distances.append(gen_observation(tf_p, tf_u, a, d)[0])\n",
    "        \n",
    "    return distances\n",
    "\n",
    "def rescale_transform(tf, scale):\n",
    "    \"\"\"Rescale a 4x4 homogenous transform matrix by some factor\n",
    "    \n",
    "    Args:\n",
    "        tf (4x4 np.array or python list): homogenous transform matrix to be rescaled\n",
    "        scale: amount to rescale the tf by, e.g. scale=10 will change unit from cm to mm\n",
    "        \n",
    "    Returns:\n",
    "        (4x4 np.array) rescaled transform\n",
    "        \n",
    "    \"\"\"\n",
    "    new_tf = np.array([\n",
    "        [tf[0][0], tf[0][1], tf[0][2], tf[0][3]*scale],\n",
    "        [tf[1][0], tf[1][1], tf[1][2], tf[1][3]*scale],\n",
    "        [tf[2][0], tf[2][1], tf[2][2], tf[2][3]*scale],\n",
    "        [tf[3][0], tf[3][1], tf[3][2], tf[3][3]],\n",
    "    ])\n",
    "\n",
    "    return new_tf\n",
    "\n",
    "def read_transforms_from_file(file_path):\n",
    "    \"\"\"Read in a list of 4x4 homogenous transforms from a csv file\n",
    "    \n",
    "    csv file should be in the format:\n",
    "    Aa, Ab, Ac, Ad, Ae, Af, Ag, Ah, Ai, Aj, Ak, Al, Am, An, Ao, Ap\n",
    "    \n",
    "    where:\n",
    "    \n",
    "         |  Aa, Ab, Ac, Ad  |\n",
    "    tf = |  Ae, Af, Ag, Ah  |\n",
    "         |  Ai, Aj, Ak, Al  |\n",
    "         |  Am, An, Ao, Ap  |\n",
    "         \n",
    "    Args:\n",
    "        file_path: the path to the file to read transforms from\n",
    "        \n",
    "    Returns:\n",
    "        (list of 4x4 np.array objects): transforms read from file\n",
    "    \"\"\"\n",
    "    with open(file_path) as f:\n",
    "        csvfile = csv.reader(f)\n",
    "\n",
    "        raw_transforms = []\n",
    "        for line in csvfile:\n",
    "            items = []\n",
    "            for item in line:\n",
    "                if(item != ' '):\n",
    "                    items.append(float(item))\n",
    "            raw_transforms.append(np.reshape(np.array(items), (4,4)))\n",
    "    \n",
    "    # change unit of transforms from meters to mm (to match sensor measurents, which are in mm)\n",
    "    transforms = [rescale_transform(tf, 1000) for tf in raw_transforms]\n",
    "    \n",
    "    return transforms\n",
    "\n",
    "def split_transforms(transforms):\n",
    "    \"\"\"Split a list of homogenous transforms into affine A and translate t components\n",
    "    \n",
    "    Args:\n",
    "        transforms: a list of 4x4 np.array transforms to split\n",
    "        \n",
    "    Returns:\n",
    "        (tuple) (As (list of 3x3 np.arrays), ts (list of length 3 np.arrays)): split transforms\n",
    "    \"\"\"\n",
    "    As = []\n",
    "    ts = []\n",
    "    for tf in transforms:\n",
    "        As.append(\n",
    "            np.array([\n",
    "                [tf[0][0], tf[0][1], tf[0][2]],\n",
    "                [tf[1][0], tf[1][1], tf[1][2]],\n",
    "                [tf[2][0], tf[2][1], tf[2][2]]\n",
    "            ])\n",
    "        )\n",
    "        ts.append(\n",
    "            np.array([tf[0][3], tf[1][3], tf[2][3]])\n",
    "        )\n",
    "        \n",
    "    return (As, ts)\n",
    "\n",
    "def pp_gams(var):\n",
    "    \"\"\"pretty prints a variable that's been pulled from gams\n",
    "    \n",
    "    Args:\n",
    "        var: a parameter or variable that's been pulled from gams\n",
    "        \n",
    "    Returns:\n",
    "        string: an easily readable version of that variable\n",
    "    \"\"\"\n",
    "    string = \"(\"\n",
    "    for x in var:\n",
    "        string += \" \" + str(x[1]) + \",\"\n",
    "    \n",
    "    return string + \" )\""
   ]
  },
  {
   "cell_type": "markdown",
   "metadata": {},
   "source": [
    "## Generate the simulated sensor measurements from a set of motions\n",
    "Next, read in the transforms (robot motions) that were used to run the real world trial 5. We could use some randomly generated set of transforms, but there's no reason to, and by using these, we know that the sensor won't accidentally pass through the plane, because that is impossible in the real world that the motions come from."
   ]
  },
  {
   "cell_type": "code",
   "execution_count": 35,
   "metadata": {},
   "outputs": [],
   "source": [
    "trial_5_tfs = read_transforms_from_file('data/trial_5/transforms.csv')\n",
    "\n",
    "trial_5_As, trial_5_ts = split_transforms(trial_5_tfs)\n",
    "\n",
    "# p, u, a, d estimates are arbitrary for simulated data. Here I just use rough estimates of\n",
    "# what their true values were when I ran the real experiment\n",
    "p_est = (10, 10, 170)\n",
    "u_est = (-1, 0, 0)\n",
    "a_est = (0, 0, 1)\n",
    "d_est = 187\n",
    "trial_5_sim_ms = gen_sim_trial(trial_5_tfs, p_est, u_est, a_est, d_est)"
   ]
  },
  {
   "cell_type": "markdown",
   "metadata": {},
   "source": [
    "First, we write and test the models on some simulated data, just to confirm that they work in the ideal case. We move on to real-world and noisy simulated data in the \"Evaluation\" section below."
   ]
  },
  {
   "cell_type": "markdown",
   "metadata": {},
   "source": [
    "## Least Squares (QCP) Optimization Model - Solve for Sensor Parameters\n",
    "<a id='lstsq_sensor'></a>"
   ]
  },
  {
   "cell_type": "code",
   "execution_count": 184,
   "metadata": {},
   "outputs": [
    {
     "name": "stdout",
     "output_type": "stream",
     "text": [
      "The gams_magic extension is already loaded. To reload it, use:\n",
      "  %reload_ext gams_magic\n"
     ]
    }
   ],
   "source": [
    "%load_ext gams_magic\n",
    "%gams_cleanup -k\n",
    "%gams_reset"
   ]
  },
  {
   "cell_type": "code",
   "execution_count": 185,
   "metadata": {},
   "outputs": [],
   "source": [
    "%%gams\n",
    "sets\n",
    "    dim \"3D coordinate / vector dimensions\",\n",
    "    obs \"set of observations\",\n",
    "    mat \"entry names for a 3x3 matrix\";\n",
    "\n",
    "parameters\n",
    "    m(obs) \"(m)easurement observed per observation\",\n",
    "    big_A(obs, mat) \"affine transform matrix for robot motion for the given observation\",\n",
    "    t(obs, dim) \"translation component of robot motion for the given observation\"\n",
    "    a(dim) \"a component of plane equation ax+d=0\",\n",
    "    d \"d component of plane equation ax+d=0\";\n",
    "    \n",
    "scalar d;"
   ]
  },
  {
   "cell_type": "code",
   "execution_count": 186,
   "metadata": {},
   "outputs": [],
   "source": [
    "\"\"\"SETS\"\"\"\n",
    "obs = [str(x) for x in list(range(1, len(trial_5_tfs)+1))] # index for observations\n",
    "mat = ['Aa', 'Ab', 'Ac', 'Ad', 'Ae', 'Af', 'Ag', 'Ah', 'Ai'] # entry names for 3x3 matrix A\n",
    "dim = ['x', 'y', 'z'] # 3D coordinate / vector dimensions\n",
    "\n",
    "%gams_push obs mat dim\n",
    "\n",
    "\"\"\"PARAMETERS\"\"\"\n",
    "m = [(ob, measurement) for (ob, measurement) in zip(obs, trial_5_sim_ms)] # (m)easurement observed per observation\n",
    "\n",
    "big_A = []\n",
    "for ob in obs:\n",
    "    for entry, i in zip(mat, range(len(mat))):\n",
    "        big_A.append((ob, entry, trial_5_As[int(ob)-1].flatten()[i]))\n",
    "        \n",
    "t = []\n",
    "for ob in obs:\n",
    "    for dimens, i in zip(dim, range(len(dim))):\n",
    "        t.append((ob, dimens, trial_5_ts[int(ob)-1][i]))\n",
    "        \n",
    "a = [(dimens, x) for dimens, x in zip(dim, a_est)]\n",
    "d = d_est\n",
    "\n",
    "%gams_push m big_A t a d"
   ]
  },
  {
   "cell_type": "code",
   "execution_count": 187,
   "metadata": {},
   "outputs": [
    {
     "data": {
      "text/html": [
       "<div>\n",
       "<style scoped>\n",
       "    .dataframe tbody tr th:only-of-type {\n",
       "        vertical-align: middle;\n",
       "    }\n",
       "\n",
       "    .dataframe tbody tr th {\n",
       "        vertical-align: top;\n",
       "    }\n",
       "\n",
       "    .dataframe thead th {\n",
       "        text-align: right;\n",
       "    }\n",
       "</style>\n",
       "<table border=\"1\" class=\"dataframe\">\n",
       "  <thead>\n",
       "    <tr style=\"text-align: right;\">\n",
       "      <th></th>\n",
       "      <th>Solver Status</th>\n",
       "      <th>Model Status</th>\n",
       "      <th>Objective</th>\n",
       "      <th>#equ</th>\n",
       "      <th>#var</th>\n",
       "      <th>Model Type</th>\n",
       "      <th>Solver</th>\n",
       "      <th>Solver Time</th>\n",
       "    </tr>\n",
       "  </thead>\n",
       "  <tbody>\n",
       "    <tr>\n",
       "      <th>0</th>\n",
       "      <td>Normal (1)</td>\n",
       "      <td>OptimalLocal (2)</td>\n",
       "      <td>0.0</td>\n",
       "      <td>52</td>\n",
       "      <td>57</td>\n",
       "      <td>QCP</td>\n",
       "      <td>CONOPT</td>\n",
       "      <td>0.003</td>\n",
       "    </tr>\n",
       "  </tbody>\n",
       "</table>\n",
       "</div>"
      ],
      "text/plain": [
       "  Solver Status      Model Status  Objective #equ #var Model Type  Solver  \\\n",
       "0    Normal (1)  OptimalLocal (2)        0.0   52   57        QCP  CONOPT   \n",
       "\n",
       "  Solver Time  \n",
       "0       0.003  "
      ]
     },
     "execution_count": 187,
     "metadata": {},
     "output_type": "execute_result"
    }
   ],
   "source": [
    "%%gams\n",
    "option limrow=0, limcol=0;\n",
    "option solprint=off;\n",
    "\n",
    "variables\n",
    "    p(dim) \"position of sensor in 3D space\",\n",
    "    u(dim) \"heading vector denoting orientation of sensor in 3D space (unit length)\",\n",
    "    loss \"objective\",\n",
    "    loss_term(obs) \"loss over one specific observation\";\n",
    "    \n",
    "equations\n",
    "    loss_fn \"overall loss function (objective is to minimize)\",\n",
    "    def_loss_term(obs) \"define one loss term at a time\",\n",
    "    u_unit \"constrain u to be unit length\";\n",
    "    \n",
    "loss_fn..\n",
    "    loss =e= sum(obs, sqr(loss_term(obs)));\n",
    "\n",
    "def_loss_term(obs)..\n",
    "    loss_term(obs) =e=\n",
    "        p(\"x\") * (a(\"x\")*big_A(obs, \"Aa\") + a(\"y\")*big_A(obs, \"Ad\") + a(\"z\")*big_A(obs, \"Ag\"))\n",
    "        + p(\"y\") * (a(\"x\")*big_A(obs, \"Ab\") + a(\"y\")*big_A(obs, \"Ae\") + a(\"z\")*big_A(obs, \"Ah\"))\n",
    "        + p(\"z\") * (a(\"x\")*big_A(obs, \"Ac\") + a(\"y\")*big_A(obs, \"Af\") + a(\"z\")*big_A(obs, \"Ai\"))\n",
    "        + m(obs) * u(\"x\") * (a(\"x\")*big_A(obs, \"Aa\") + a(\"y\")*big_A(obs, \"Ad\") + a(\"z\")*big_A(obs, \"Ag\"))\n",
    "        + m(obs) * u(\"y\") * (a(\"x\")*big_A(obs, \"Ab\") + a(\"y\")*big_A(obs, \"Ae\") + a(\"z\")*big_A(obs, \"Ah\"))\n",
    "        + m(obs) * u(\"z\") * (a(\"x\")*big_A(obs, \"Ac\") + a(\"y\")*big_A(obs, \"Af\") + a(\"z\")*big_A(obs, \"Ai\"))\n",
    "        + d\n",
    "        + sum(dim, a(dim)*t(obs, dim));\n",
    "        \n",
    "u_unit..\n",
    "    sum(dim, sqr(u(dim))) =e= 1;\n",
    "\n",
    "u.l(dim) = sqrt(1/3);\n",
    "    \n",
    "model lstsq /loss_fn, def_loss_term, u_unit/;\n",
    "solve lstsq using qcp minimizing loss;"
   ]
  },
  {
   "cell_type": "code",
   "execution_count": 188,
   "metadata": {},
   "outputs": [
    {
     "name": "stdout",
     "output_type": "stream",
     "text": [
      "p ( 9.9999999550593, 9.999999998487382, 169.9999999248231, )\n",
      "u ( -0.9999999998051181, -7.268655626432152e-11, 2.8610275954988265e-10, )\n"
     ]
    }
   ],
   "source": [
    "%gams_pull p u\n",
    "print(\"p\", pp_gams(p))\n",
    "print(\"u\", pp_gams(u))"
   ]
  },
  {
   "cell_type": "markdown",
   "metadata": {},
   "source": [
    "## Least Squares (QCP) Optimization Model - Solve for Plane Parameters\n",
    "<a id='lstsq_plane'></a>"
   ]
  },
  {
   "cell_type": "code",
   "execution_count": 189,
   "metadata": {},
   "outputs": [],
   "source": [
    "%gams_cleanup -k\n",
    "%gams_reset"
   ]
  },
  {
   "cell_type": "code",
   "execution_count": 190,
   "metadata": {},
   "outputs": [],
   "source": [
    "%%gams\n",
    "sets\n",
    "    dim \"3D coordinate / vector dimensions\",\n",
    "    obs \"set of observations\",\n",
    "    mat \"entry names for a 3x3 matrix\";\n",
    "\n",
    "parameters\n",
    "    m(obs) \"(m)easurement observed per observation\",\n",
    "    big_A(obs, mat) \"affine transform matrix for robot motion for the given observation\",\n",
    "    t(obs, dim) \"translation component of robot motion for the given observation\"\n",
    "    p(dim) \"position of sensor on robot\",\n",
    "    u(dim) \"heading vector denoting the orientation of the sensor on the robot\";"
   ]
  },
  {
   "cell_type": "code",
   "execution_count": 191,
   "metadata": {},
   "outputs": [],
   "source": [
    "\"\"\"SETS\"\"\"\n",
    "obs = [str(x) for x in list(range(1, len(trial_5_tfs)+1))] # index for observations\n",
    "mat = ['Aa', 'Ab', 'Ac', 'Ad', 'Ae', 'Af', 'Ag', 'Ah', 'Ai'] # entry names for 3x3 matrix A\n",
    "dim = ['x', 'y', 'z'] # 3D coordinate / vector dimensions\n",
    "\n",
    "%gams_push obs mat dim\n",
    "\n",
    "\"\"\"PARAMETERS\"\"\"\n",
    "m = [(ob, measurement) for (ob, measurement) in zip(obs, trial_5_sim_ms)] # (m)easurement observed per observation\n",
    "\n",
    "big_A = []\n",
    "for ob in obs:\n",
    "    for entry, i in zip(mat, range(len(mat))):\n",
    "        big_A.append((ob, entry, trial_5_As[int(ob)-1].flatten()[i]))\n",
    "        \n",
    "t = []\n",
    "for ob in obs:\n",
    "    for dimens, i in zip(dim, range(len(dim))):\n",
    "        t.append((ob, dimens, trial_5_ts[int(ob)-1][i]))\n",
    "        \n",
    "p = [(dimens, x) for dimens, x in zip(dim, p_est)]\n",
    "u = [(dimens, x) for dimens, x in zip(dim, u_est)]\n",
    "\n",
    "%gams_push m big_A t p u"
   ]
  },
  {
   "cell_type": "code",
   "execution_count": 192,
   "metadata": {},
   "outputs": [
    {
     "data": {
      "text/html": [
       "<div>\n",
       "<style scoped>\n",
       "    .dataframe tbody tr th:only-of-type {\n",
       "        vertical-align: middle;\n",
       "    }\n",
       "\n",
       "    .dataframe tbody tr th {\n",
       "        vertical-align: top;\n",
       "    }\n",
       "\n",
       "    .dataframe thead th {\n",
       "        text-align: right;\n",
       "    }\n",
       "</style>\n",
       "<table border=\"1\" class=\"dataframe\">\n",
       "  <thead>\n",
       "    <tr style=\"text-align: right;\">\n",
       "      <th></th>\n",
       "      <th>Solver Status</th>\n",
       "      <th>Model Status</th>\n",
       "      <th>Objective</th>\n",
       "      <th>#equ</th>\n",
       "      <th>#var</th>\n",
       "      <th>Model Type</th>\n",
       "      <th>Solver</th>\n",
       "      <th>Solver Time</th>\n",
       "    </tr>\n",
       "  </thead>\n",
       "  <tbody>\n",
       "    <tr>\n",
       "      <th>0</th>\n",
       "      <td>Normal (1)</td>\n",
       "      <td>OptimalLocal (2)</td>\n",
       "      <td>0.0</td>\n",
       "      <td>52</td>\n",
       "      <td>55</td>\n",
       "      <td>QCP</td>\n",
       "      <td>CONOPT</td>\n",
       "      <td>0.003</td>\n",
       "    </tr>\n",
       "  </tbody>\n",
       "</table>\n",
       "</div>"
      ],
      "text/plain": [
       "  Solver Status      Model Status  Objective #equ #var Model Type  Solver  \\\n",
       "0    Normal (1)  OptimalLocal (2)        0.0   52   55        QCP  CONOPT   \n",
       "\n",
       "  Solver Time  \n",
       "0       0.003  "
      ]
     },
     "execution_count": 192,
     "metadata": {},
     "output_type": "execute_result"
    }
   ],
   "source": [
    "%%gams\n",
    "option limrow=0, limcol=0;\n",
    "option solprint=off;\n",
    "\n",
    "variables\n",
    "    a(dim) \"a component of plane equation ax+d=0\",\n",
    "    d \"d component of plane equation ax+d=0\",\n",
    "    loss \"objective\",\n",
    "    loss_term(obs) \"loss over one specific observation\";\n",
    "    \n",
    "equations\n",
    "    loss_fn \"overall loss function (objective is to minimize)\",\n",
    "    def_loss_term(obs) \"define one loss term at a time\"\n",
    "    a_unit \"constrain a to be unit length\";\n",
    "    \n",
    "loss_fn..\n",
    "    loss =e= sum(obs, sqr(loss_term(obs)));\n",
    "\n",
    "def_loss_term(obs)..\n",
    "    loss_term(obs) =e=\n",
    "        p(\"x\") * (a(\"x\")*big_A(obs, \"Aa\") + a(\"y\")*big_A(obs, \"Ad\") + a(\"z\")*big_A(obs, \"Ag\"))\n",
    "        + p(\"y\") * (a(\"x\")*big_A(obs, \"Ab\") + a(\"y\")*big_A(obs, \"Ae\") + a(\"z\")*big_A(obs, \"Ah\"))\n",
    "        + p(\"z\") * (a(\"x\")*big_A(obs, \"Ac\") + a(\"y\")*big_A(obs, \"Af\") + a(\"z\")*big_A(obs, \"Ai\"))\n",
    "        + m(obs) * u(\"x\") * (a(\"x\")*big_A(obs, \"Aa\") + a(\"y\")*big_A(obs, \"Ad\") + a(\"z\")*big_A(obs, \"Ag\"))\n",
    "        + m(obs) * u(\"y\") * (a(\"x\")*big_A(obs, \"Ab\") + a(\"y\")*big_A(obs, \"Ae\") + a(\"z\")*big_A(obs, \"Ah\"))\n",
    "        + m(obs) * u(\"z\") * (a(\"x\")*big_A(obs, \"Ac\") + a(\"y\")*big_A(obs, \"Af\") + a(\"z\")*big_A(obs, \"Ai\"))\n",
    "        + d\n",
    "        + sum(dim, a(dim)*t(obs, dim));\n",
    "\n",
    "a_unit..\n",
    "    sum(dim, sqr(a(dim))) =e= 1;\n",
    "    \n",
    "a.l(dim) = sqrt(1/3);\n",
    "\n",
    "model lstsq /loss_fn, def_loss_term, a_unit/;\n",
    "solve lstsq using qcp minimizing loss;"
   ]
  },
  {
   "cell_type": "code",
   "execution_count": 193,
   "metadata": {},
   "outputs": [
    {
     "name": "stdout",
     "output_type": "stream",
     "text": [
      "a ( 5.077995606014033e-19, -9.858388584834043e-18, 1.0000000168488792, )\n",
      "d (187.00000315074044, 5e-324, -inf, inf, 1.0)\n"
     ]
    }
   ],
   "source": [
    "%gams_pull a d\n",
    "print(\"a\", pp_gams(a))\n",
    "print(\"d\", d[0])"
   ]
  },
  {
   "cell_type": "markdown",
   "metadata": {},
   "source": [
    "<a id='bilinear'></a>\n",
    "## Bilinear (NLP) Optimization Model - Solve for Plane and Sensor Parameters Simultaneously"
   ]
  },
  {
   "cell_type": "code",
   "execution_count": 8,
   "metadata": {},
   "outputs": [
    {
     "name": "stdout",
     "output_type": "stream",
     "text": [
      "The gams_magic extension is already loaded. To reload it, use:\n",
      "  %reload_ext gams_magic\n"
     ]
    }
   ],
   "source": [
    "%gams_cleanup -k\n",
    "%gams_reset"
   ]
  },
  {
   "cell_type": "markdown",
   "metadata": {},
   "source": [
    "Push data to GAMS"
   ]
  },
  {
   "cell_type": "code",
   "execution_count": 10,
   "metadata": {},
   "outputs": [],
   "source": [
    "%%gams\n",
    "sets\n",
    "    dim \"3D coordinate / vector dimensions\",\n",
    "    obs \"set of observations\",\n",
    "    mat \"entry names for a 3x3 matrix\";\n",
    "\n",
    "parameters\n",
    "    m(obs) \"(m)easurement observed per observation\",\n",
    "    big_A(obs, mat) \"affine transform matrix for robot motion for the given observation\",\n",
    "    t(obs, dim) \"translation component of robot motion for the given observation\";"
   ]
  },
  {
   "cell_type": "code",
   "execution_count": 41,
   "metadata": {},
   "outputs": [],
   "source": [
    "\"\"\"SETS\"\"\"\n",
    "obs = [str(x) for x in list(range(1, len(trial_5_tfs)+1))] # index for observations\n",
    "mat = ['Aa', 'Ab', 'Ac', 'Ad', 'Ae', 'Af', 'Ag', 'Ah', 'Ai'] # entry names for 3x3 matrix A\n",
    "dim = ['x', 'y', 'z'] # 3D coordinate / vector dimensions\n",
    "\n",
    "%gams_push obs mat dim\n",
    "\n",
    "\"\"\"PARAMETERS\"\"\"\n",
    "m = [(ob, measurement) for (ob, measurement) in zip(obs, trial_5_sim_ms)] # (m)easurement observed per observation\n",
    "\n",
    "big_A = []\n",
    "for ob in obs:\n",
    "    for entry, i in zip(mat, range(len(mat))):\n",
    "        big_A.append((ob, entry, trial_5_As[int(ob)-1].flatten()[i]))\n",
    "        \n",
    "t = []\n",
    "for ob in obs:\n",
    "    for dimens, i in zip(dim, range(len(dim))):\n",
    "        t.append((ob, dimens, trial_5_ts[int(ob)-1][i]))\n",
    "        \n",
    "%gams_push m big_A t"
   ]
  },
  {
   "cell_type": "code",
   "execution_count": 55,
   "metadata": {},
   "outputs": [
    {
     "data": {
      "text/html": [
       "<div>\n",
       "<style scoped>\n",
       "    .dataframe tbody tr th:only-of-type {\n",
       "        vertical-align: middle;\n",
       "    }\n",
       "\n",
       "    .dataframe tbody tr th {\n",
       "        vertical-align: top;\n",
       "    }\n",
       "\n",
       "    .dataframe thead th {\n",
       "        text-align: right;\n",
       "    }\n",
       "</style>\n",
       "<table border=\"1\" class=\"dataframe\">\n",
       "  <thead>\n",
       "    <tr style=\"text-align: right;\">\n",
       "      <th></th>\n",
       "      <th>Solver Status</th>\n",
       "      <th>Model Status</th>\n",
       "      <th>Objective</th>\n",
       "      <th>#equ</th>\n",
       "      <th>#var</th>\n",
       "      <th>Model Type</th>\n",
       "      <th>Solver</th>\n",
       "      <th>Solver Time</th>\n",
       "    </tr>\n",
       "  </thead>\n",
       "  <tbody>\n",
       "    <tr>\n",
       "      <th>0</th>\n",
       "      <td>Normal (1)</td>\n",
       "      <td>OptimalLocal (2)</td>\n",
       "      <td>0.0</td>\n",
       "      <td>53</td>\n",
       "      <td>61</td>\n",
       "      <td>NLP</td>\n",
       "      <td>CONOPT</td>\n",
       "      <td>0.004</td>\n",
       "    </tr>\n",
       "  </tbody>\n",
       "</table>\n",
       "</div>"
      ],
      "text/plain": [
       "  Solver Status      Model Status  Objective #equ #var Model Type  Solver  \\\n",
       "0    Normal (1)  OptimalLocal (2)        0.0   53   61        NLP  CONOPT   \n",
       "\n",
       "  Solver Time  \n",
       "0       0.004  "
      ]
     },
     "execution_count": 55,
     "metadata": {},
     "output_type": "execute_result"
    }
   ],
   "source": [
    "%%gams\n",
    "option limrow=0, limcol=0;\n",
    "option solprint=off;\n",
    "    \n",
    "variables\n",
    "    p(dim) \"position of sensor in 3D space\",\n",
    "    u(dim) \"heading vector denoting orientation of sensor in 3D space (unit length)\",\n",
    "    a(dim) \"a component of plane equation ax+d=0\",\n",
    "    d \"d component of plane equation ax+d=0\",\n",
    "    loss \"objective\",\n",
    "    loss_term(obs) \"loss over one specific observation\";\n",
    "    \n",
    "equations\n",
    "    loss_fn \"overall loss function (objective is to minimize)\",\n",
    "    def_loss_term(obs) \"define one loss term at a time\",\n",
    "    u_unit \"constrain u to be a unit vector\",\n",
    "    a_unit \"constrain a to be a unit vector\";\n",
    "    \n",
    "loss_fn..\n",
    "    loss =e= sum(obs, sqr(loss_term(obs)));\n",
    "\n",
    "def_loss_term(obs)..\n",
    "    loss_term(obs) =e=\n",
    "        p(\"x\") * (a(\"x\")*big_A(obs, \"Aa\") + a(\"y\")*big_A(obs, \"Ad\") + a(\"z\")*big_A(obs, \"Ag\"))\n",
    "        + p(\"y\") * (a(\"x\")*big_A(obs, \"Ab\") + a(\"y\")*big_A(obs, \"Ae\") + a(\"z\")*big_A(obs, \"Ah\"))\n",
    "        + p(\"z\") * (a(\"x\")*big_A(obs, \"Ac\") + a(\"y\")*big_A(obs, \"Af\") + a(\"z\")*big_A(obs, \"Ai\"))\n",
    "        + m(obs) * u(\"x\") * (a(\"x\")*big_A(obs, \"Aa\") + a(\"y\")*big_A(obs, \"Ad\") + a(\"z\")*big_A(obs, \"Ag\"))\n",
    "        + m(obs) * u(\"y\") * (a(\"x\")*big_A(obs, \"Ab\") + a(\"y\")*big_A(obs, \"Ae\") + a(\"z\")*big_A(obs, \"Ah\"))\n",
    "        + m(obs) * u(\"z\") * (a(\"x\")*big_A(obs, \"Ac\") + a(\"y\")*big_A(obs, \"Af\") + a(\"z\")*big_A(obs, \"Ai\"))\n",
    "        + d\n",
    "        + sum(dim, a(dim)*t(obs, dim));\n",
    "    \n",
    "u_unit..\n",
    "    sqrt(sum(dim, sqr(u(dim)))) =e= 1;\n",
    "    \n",
    "a_unit..\n",
    "    sqrt(sum(dim, sqr(a(dim)))) =e= 1;\n",
    "    \n",
    "* can fix a and d here\n",
    "\n",
    "p.l(\"x\") = 15;\n",
    "p.l(\"y\") = 10;\n",
    "p.l(\"z\") = 170;\n",
    "u.l(\"x\") = -1;\n",
    "u.l(\"y\") = 0;\n",
    "u.l(\"z\") = 0;\n",
    "a.l(\"x\") = 0;\n",
    "a.l(\"y\") = 0;\n",
    "a.l(\"z\") = 1;\n",
    "d.l = 187;\n",
    "\n",
    "model lstsq /all/;\n",
    "solve lstsq using nlp minimizing loss;\n",
    "display p.l;"
   ]
  },
  {
   "cell_type": "code",
   "execution_count": 57,
   "metadata": {},
   "outputs": [
    {
     "name": "stdout",
     "output_type": "stream",
     "text": [
      "p [('x', 10.00000002056135, 5e-324, -inf, inf, 1.0), ('y', 10.000000007579754, 5e-324, -inf, inf, 1.0), ('z', 170.00000009588013, 1.132690821526238e-11, -inf, inf, 1.0)]\n",
      "u [('x', -1.0000000002410905, 0.0, -inf, inf, 1.0), ('y', 9.39524010852831e-11, -2.1371354181899987e-09, -inf, inf, 1.0), ('z', -3.798504929524227e-10, 4.487330463066106e-09, -inf, inf, 1.0)]\n",
      "a [('x', 8.850161169310243e-11, -2.1383507292460108e-08, -inf, inf, 1.0), ('y', 9.726327430859958e-12, 2.740366505866235e-09, -inf, inf, 1.0), ('z', 1.0000000000296747, 0.0, -inf, inf, 1.0)]\n",
      "d [(186.99999997149033, -3.291233952040784e-11, -inf, inf, 1.0)]\n"
     ]
    }
   ],
   "source": [
    "%gams_pull p loss u a d loss_term\n",
    "print(\"p\", p)\n",
    "print(\"u\", u)\n",
    "print(\"a\", a)\n",
    "print(\"d\", d)\n",
    "# print(\"loss\", loss)\n",
    "# print(\"loss term\", loss_term)"
   ]
  },
  {
   "cell_type": "markdown",
   "metadata": {},
   "source": [
    "## Note: Alternating Least Squares (QCP) Optimization Model\n",
    "\n",
    "The bilinear case of our model has something special about it: if you hold any one set of unknowns (either the plane parameters or sensor parameters) constant, it becomes a least squares problem - either the [unknown plane version](#lstsq_plane) or [unknown sensor version](#lstsq_sensor) described above. We could exploit this, and alternate between the two least squares problems, using the solution from one model to fix the parameters in the next. This way, we would never have to touch NLP! (Although, in a way, we would still be doing NLP, just more manually, using two QCPs, I think)\n",
    "\n",
    "At least, in theory. I messed around this for a while and never got it working. I haven't found great resources for this online - most are talking about the matrix factorization problem, which may be equivalent, but reading about it doesn't help. I think the problem is that our problems aren't plain least squares because of the unit vector constraints, so they're not gauranteed to converge when you alternate.\n",
    "\n",
    "I've removed my work since this document is already long and there are more interesting things to focus on. Plus, [the NLP model above](#bilinear) seems to be pretty robust, and fast enough, since we're never going to be solving problems with more than ~50 terms, and speed is not crucial."
   ]
  },
  {
   "cell_type": "markdown",
   "metadata": {},
   "source": [
    "# Evaluation\n",
    "<a id='evaluation'></a>\n",
    "\n",
    "We evaluate our models' performance in three ways:\n",
    "1. Use simulated data for which we know the ground truth, and test for solution accuracy given some known noise model for the sensor measurements. This may not translate to the real world, in which the noise model for the sensor is not exactly known.\n",
    "2. Use real data gathered from a sensor attached to a robot, and test for solution *precision*, not accuracy, since ground truth is not exactly known. Find the \"inner-trial\" precision by randomly sampling sets of measurements from the same trial and comparing the solved sensor poses.\n",
    "3. Also using real data, find the \"cross-trial\" precision by using all measurements from two separate trials which have different plane positions and motions, but the same sensor position, and comparing their position."
   ]
  },
  {
   "cell_type": "markdown",
   "metadata": {},
   "source": [
    "### Evaluating Models Based on Simulated Data\n",
    "Add Gaussian noise with $\\mu = 0$, $\\sigma = 5mm$to the simulated measurements for the motions from trial 5 that we generated previously:"
   ]
  },
  {
   "cell_type": "code",
   "execution_count": 194,
   "metadata": {},
   "outputs": [],
   "source": [
    "np.random.seed(0) # for re-producability\n",
    "trial_5_sim_ms_noisy = [x + np.random.normal(0, 5) for x in trial_5_sim_ms]\n",
    "\n",
    "p_errors = []\n",
    "u_errors = []\n",
    "for _ in range(1000):\n",
    "    "
   ]
  }
 ],
 "metadata": {
  "interpreter": {
   "hash": "e7370f93d1d0cde622a1f8e1c04877d8463912d04d973331ad4851f04de6915a"
  },
  "kernelspec": {
   "display_name": "Python 3",
   "language": "python",
   "name": "python3"
  },
  "language_info": {
   "codemirror_mode": {
    "name": "ipython",
    "version": 3
   },
   "file_extension": ".py",
   "mimetype": "text/x-python",
   "name": "python",
   "nbconvert_exporter": "python",
   "pygments_lexer": "ipython3",
   "version": "3.8.10"
  }
 },
 "nbformat": 4,
 "nbformat_minor": 2
}
